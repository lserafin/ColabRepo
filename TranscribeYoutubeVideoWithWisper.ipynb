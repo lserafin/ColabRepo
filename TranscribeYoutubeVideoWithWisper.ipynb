{
  "nbformat": 4,
  "nbformat_minor": 0,
  "metadata": {
    "colab": {
      "provenance": [],
      "toc_visible": true,
      "authorship_tag": "ABX9TyMCQQR1BqGTCd1g9ZVVULFW",
      "include_colab_link": true
    },
    "kernelspec": {
      "name": "python3",
      "display_name": "Python 3"
    },
    "language_info": {
      "name": "python"
    },
    "accelerator": "GPU",
    "gpuClass": "standard"
  },
  "cells": [
    {
      "cell_type": "markdown",
      "metadata": {
        "id": "view-in-github",
        "colab_type": "text"
      },
      "source": [
        "<a href=\"https://colab.research.google.com/github/lserafin/ColabRepo/blob/master/TranscribeYoutubeVideoWithWisper.ipynb\" target=\"_parent\"><img src=\"https://colab.research.google.com/assets/colab-badge.svg\" alt=\"Open In Colab\"/></a>"
      ]
    },
    {
      "cell_type": "markdown",
      "source": [
        "**Transcribe YouTube Videos using Whisper**\n",
        "\n",
        "This is a simple Notebook that uses Whisper to transcribe a YouTube video. \n",
        "In the end the result dictionary will be seralized to a JSON file. \n",
        "\n",
        "https://github.com/openai/whisper\n"
      ],
      "metadata": {
        "id": "fiK1bZhY9KoN"
      }
    },
    {
      "cell_type": "code",
      "execution_count": null,
      "metadata": {
        "id": "ZrE6oaHO5R0B"
      },
      "outputs": [],
      "source": [
        "# Make sure Runtime is configured to use GPU"
      ]
    },
    {
      "cell_type": "code",
      "source": [
        "pip install pytube # For audio downloading"
      ],
      "metadata": {
        "colab": {
          "base_uri": "https://localhost:8080/"
        },
        "id": "C6DRK5P45m76",
        "outputId": "1359ec8b-0686-4144-e8c3-5fabcc7a9bc3"
      },
      "execution_count": 1,
      "outputs": [
        {
          "output_type": "stream",
          "name": "stdout",
          "text": [
            "Looking in indexes: https://pypi.org/simple, https://us-python.pkg.dev/colab-wheels/public/simple/\n",
            "Collecting pytube\n",
            "  Downloading pytube-12.1.2-py3-none-any.whl (57 kB)\n",
            "\u001b[2K     \u001b[90m━━━━━━━━━━━━━━━━━━━━━━━━━━━━━━━━━━━━━━━━\u001b[0m \u001b[32m57.0/57.0 KB\u001b[0m \u001b[31m1.1 MB/s\u001b[0m eta \u001b[36m0:00:00\u001b[0m\n",
            "\u001b[?25hInstalling collected packages: pytube\n",
            "Successfully installed pytube-12.1.2\n"
          ]
        }
      ]
    },
    {
      "cell_type": "code",
      "source": [
        "pip install git+https://github.com/openai/whisper.git -q # Whisper from OpenAI transcription model"
      ],
      "metadata": {
        "colab": {
          "base_uri": "https://localhost:8080/"
        },
        "id": "0Mpr2PXP6E9M",
        "outputId": "eb3e092d-026b-4f8b-cb05-d5eaf1a61351"
      },
      "execution_count": 2,
      "outputs": [
        {
          "output_type": "stream",
          "name": "stdout",
          "text": [
            "  Preparing metadata (setup.py) ... \u001b[?25l\u001b[?25hdone\n",
            "\u001b[2K     \u001b[90m━━━━━━━━━━━━━━━━━━━━━━━━━━━━━━━━━━━━━━━━\u001b[0m \u001b[32m6.3/6.3 MB\u001b[0m \u001b[31m54.1 MB/s\u001b[0m eta \u001b[36m0:00:00\u001b[0m\n",
            "\u001b[2K     \u001b[90m━━━━━━━━━━━━━━━━━━━━━━━━━━━━━━━━━━━━━━\u001b[0m \u001b[32m190.3/190.3 KB\u001b[0m \u001b[31m20.0 MB/s\u001b[0m eta \u001b[36m0:00:00\u001b[0m\n",
            "\u001b[2K     \u001b[90m━━━━━━━━━━━━━━━━━━━━━━━━━━━━━━━━━━━━━━━━\u001b[0m \u001b[32m7.6/7.6 MB\u001b[0m \u001b[31m103.1 MB/s\u001b[0m eta \u001b[36m0:00:00\u001b[0m\n",
            "\u001b[?25h  Building wheel for openai-whisper (setup.py) ... \u001b[?25l\u001b[?25hdone\n"
          ]
        }
      ]
    },
    {
      "cell_type": "code",
      "source": [
        "import whisper \n",
        "import pytube"
      ],
      "metadata": {
        "id": "25APSPmD6KQk"
      },
      "execution_count": 4,
      "outputs": []
    },
    {
      "cell_type": "code",
      "source": [
        "# Set YouTube URL here\n",
        "url = \"https://www.youtube.com/watch?v=1xhPqZZYJSE\""
      ],
      "metadata": {
        "id": "xirKnVdt6nW1"
      },
      "execution_count": 6,
      "outputs": []
    },
    {
      "cell_type": "code",
      "source": [
        "video = pytube.YouTube(url)\n",
        "audio = video.streams.get_audio_only()\n",
        "audio.download(filename='tmp.mp3') # Downlods only audio from youtube video"
      ],
      "metadata": {
        "colab": {
          "base_uri": "https://localhost:8080/",
          "height": 35
        },
        "id": "4lmnYmoL6ZYh",
        "outputId": "98435d5b-2620-4d1f-a7bf-7c1b155ad30d"
      },
      "execution_count": 7,
      "outputs": [
        {
          "output_type": "execute_result",
          "data": {
            "text/plain": [
              "'/content/tmp.mp3'"
            ],
            "application/vnd.google.colaboratory.intrinsic+json": {
              "type": "string"
            }
          },
          "metadata": {},
          "execution_count": 7
        }
      ]
    },
    {
      "cell_type": "code",
      "source": [
        "# Set model size (see: https://github.com/openai/whisper)\n",
        "model_name = \"base.en\"\n",
        "model = whisper.load_model(model_name)"
      ],
      "metadata": {
        "id": "cd-v35IZ6x0b"
      },
      "execution_count": 11,
      "outputs": []
    },
    {
      "cell_type": "code",
      "source": [
        "transcription = model.transcribe('/content/tmp.mp3')"
      ],
      "metadata": {
        "id": "W7v8Nh2y6-sV"
      },
      "execution_count": 9,
      "outputs": []
    },
    {
      "cell_type": "code",
      "source": [
        "# Save transcription (dict) object to JSON file\n",
        "# Serializing transcript to json \n",
        "import json\n",
        "import re\n",
        "\n",
        "# Serialize the Python object to JSON\n",
        "json_data = json.dumps(transcription)\n",
        "\n",
        "filename = \"transcription_\" + re.sub(r'[^a-z0-9]+', '_', video.title.lower()) +\"_\" + model_name + \".json\"\n",
        "\n",
        "print(\"Filename: \" + filename)\n",
        "\n",
        "# Save the JSON string to a file\n",
        "with open(filename, \"w\") as file:\n",
        "    file.write(json_data)"
      ],
      "metadata": {
        "colab": {
          "base_uri": "https://localhost:8080/"
        },
        "id": "abgR8DMD7Woh",
        "outputId": "a018c914-a765-4a44-ea2d-d3c9f56d7547"
      },
      "execution_count": 12,
      "outputs": [
        {
          "output_type": "stream",
          "name": "stdout",
          "text": [
            "Filename: transcription_vitalik_on_starting_new_countries_and_improving_yourself_the_network_state_podcast_with_balaji_1_base.en.json\n"
          ]
        }
      ]
    },
    {
      "cell_type": "code",
      "source": [],
      "metadata": {
        "id": "J_08i7R182GE"
      },
      "execution_count": null,
      "outputs": []
    }
  ]
}