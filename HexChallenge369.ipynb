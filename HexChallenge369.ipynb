{
  "nbformat": 4,
  "nbformat_minor": 0,
  "metadata": {
    "colab": {
      "name": "HexChallenge369",
      "version": "0.3.2",
      "provenance": [],
      "toc_visible": true,
      "include_colab_link": true
    },
    "kernelspec": {
      "name": "python3",
      "display_name": "Python 3"
    }
  },
  "cells": [
    {
      "cell_type": "markdown",
      "metadata": {
        "id": "view-in-github",
        "colab_type": "text"
      },
      "source": [
        "<a href=\"https://colab.research.google.com/github/lserafin/ColabRepo/blob/master/HexChallenge369.ipynb\" target=\"_parent\"><img src=\"https://colab.research.google.com/assets/colab-badge.svg\" alt=\"Open In Colab\"/></a>"
      ]
    },
    {
      "metadata": {
        "id": "LdBlrc5_KlT6",
        "colab_type": "text"
      },
      "cell_type": "markdown",
      "source": [
        "# 26/11/2018 Challenge #369 Hex colors (Easy)\n",
        "\n",
        "https://www.reddit.com/r/dailyprogrammer/comments/a0lhxx/20181126_challenge_369_easy_hex_colors/\n",
        "\n",
        "## Background\n",
        "One common way for software specifications such as HTML to specify colors is with a hexadecimal string. For instance the color aquamarine is represented by the string \"#7FFFD4\". Here's how the string breaks down:\n",
        "\n",
        "\n",
        "*   The first character is always \"#\".\n",
        "*   The second and third character are the red channel value, represented as a hexadecimal value between 00 and FF. In this example, the red channel value is 127, which in hexadecimal is 7F.\n",
        "*   The fourth and fifth character are the green channel value, represented the same way. In this example, the green channel value is 255, which in hexadecimal is FF.\n",
        "*    The sixth and seventh character are the blue channel value, represented the same way. In this example, the blue channel value is 212, which in hexadecimal is D4.  \n",
        "\n",
        "All three channel values must be an integer between 0 (minimum brightness) and 255 (maximum brightness). In all cases the hex values are two digits each, including a leading 0 if necessary. See the Wikipedia page for more examples, and a link for how to convert a number to hexadecimal.\n",
        "\n",
        "## Challenge\n",
        "Given three integers between 0 and 255, corresponding to the red, green, and blue channel values of a color, find the hex string for that color. You may use anything built into your programming language, such as for base conversion, but you can also do it manually.\n",
        "\n",
        "Examples\n",
        "\n",
        "```\n",
        "hexcolor(255, 99, 71) => \"#FF6347\"  (Tomato)\n",
        "hexcolor(184, 134, 11) => \"#B8860B\"  (DarkGoldenrod)\n",
        "hexcolor(189, 183, 107) => \"#BDB76B\"  (DarkKhaki)\n",
        "hexcolor(0, 0, 205) => \"#0000CD\"  (MediumBlue)\n",
        "```\n",
        "\n"
      ]
    },
    {
      "metadata": {
        "id": "baRv-ZMkKcmi",
        "colab_type": "code",
        "colab": {}
      },
      "cell_type": "code",
      "source": [
        "def hexcolor(red,green,blue ):\n",
        "  redChannelValue = hex(red)[2:].zfill(2).upper()\n",
        "  greenChanelValue = hex(green)[2:].zfill(2).upper()\n",
        "  blueChannelValue = hex(blue)[2:].zfill(2).upper()\n",
        "  return \"#\" + redChannelValue + greenChanelValue + blueChannelValue"
      ],
      "execution_count": 0,
      "outputs": []
    },
    {
      "metadata": {
        "id": "GzhXdh77K6bm",
        "colab_type": "code",
        "colab": {
          "base_uri": "https://localhost:8080/",
          "height": 34
        },
        "outputId": "804c880b-2b7f-4f7b-f06f-1d4fdf9ba2b8"
      },
      "cell_type": "code",
      "source": [
        "hexcolor(255, 99, 71)"
      ],
      "execution_count": 15,
      "outputs": [
        {
          "output_type": "execute_result",
          "data": {
            "text/plain": [
              "'#FF6347'"
            ]
          },
          "metadata": {
            "tags": []
          },
          "execution_count": 15
        }
      ]
    },
    {
      "metadata": {
        "id": "RkgoBg29K980",
        "colab_type": "code",
        "colab": {
          "base_uri": "https://localhost:8080/",
          "height": 34
        },
        "outputId": "b9fd2a36-67e3-4f5b-9286-0767c266447d"
      },
      "cell_type": "code",
      "source": [
        "hexcolor(184, 134, 11)"
      ],
      "execution_count": 16,
      "outputs": [
        {
          "output_type": "execute_result",
          "data": {
            "text/plain": [
              "'#B8860B'"
            ]
          },
          "metadata": {
            "tags": []
          },
          "execution_count": 16
        }
      ]
    },
    {
      "metadata": {
        "id": "EZhbf6YCLTUl",
        "colab_type": "code",
        "colab": {
          "base_uri": "https://localhost:8080/",
          "height": 34
        },
        "outputId": "492b9c23-8e1f-4e75-b01d-2288cf9358ac"
      },
      "cell_type": "code",
      "source": [
        "hexcolor(189, 183, 107)"
      ],
      "execution_count": 17,
      "outputs": [
        {
          "output_type": "execute_result",
          "data": {
            "text/plain": [
              "'#BDB76B'"
            ]
          },
          "metadata": {
            "tags": []
          },
          "execution_count": 17
        }
      ]
    },
    {
      "metadata": {
        "id": "s8mi1-HNLv4t",
        "colab_type": "code",
        "colab": {
          "base_uri": "https://localhost:8080/",
          "height": 34
        },
        "outputId": "3e292e10-c735-4bf1-fa8b-dcccb822eed7"
      },
      "cell_type": "code",
      "source": [
        "hexcolor(0, 0, 205)"
      ],
      "execution_count": 18,
      "outputs": [
        {
          "output_type": "execute_result",
          "data": {
            "text/plain": [
              "'#0000CD'"
            ]
          },
          "metadata": {
            "tags": []
          },
          "execution_count": 18
        }
      ]
    }
  ]
}