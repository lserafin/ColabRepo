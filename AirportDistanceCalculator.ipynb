{
  "nbformat": 4,
  "nbformat_minor": 0,
  "metadata": {
    "colab": {
      "name": "AirportDistanceCalculator.ipynb",
      "version": "0.3.2",
      "provenance": [],
      "include_colab_link": true
    },
    "kernelspec": {
      "name": "python3",
      "display_name": "Python 3"
    }
  },
  "cells": [
    {
      "cell_type": "markdown",
      "metadata": {
        "id": "view-in-github",
        "colab_type": "text"
      },
      "source": [
        "<a href=\"https://colab.research.google.com/github/lserafin/ColabRepo/blob/master/AirportDistanceCalculator.ipynb\" target=\"_parent\"><img src=\"https://colab.research.google.com/assets/colab-badge.svg\" alt=\"Open In Colab\"/></a>"
      ]
    },
    {
      "metadata": {
        "id": "NcVmsx6YWRVt",
        "colab_type": "text"
      },
      "cell_type": "markdown",
      "source": [
        "# Airport Distance Calculator"
      ]
    },
    {
      "metadata": {
        "id": "ppe2T-6xXtdY",
        "colab_type": "text"
      },
      "cell_type": "markdown",
      "source": [
        "## Import Relevant Libaries"
      ]
    },
    {
      "metadata": {
        "id": "TyxUgPrg8sW6",
        "colab_type": "code",
        "colab": {}
      },
      "cell_type": "code",
      "source": [
        "import numpy as np\n",
        "import pandas as pd\n",
        "import math"
      ],
      "execution_count": 0,
      "outputs": []
    },
    {
      "metadata": {
        "id": "ldAC-3oFWyUF",
        "colab_type": "text"
      },
      "cell_type": "markdown",
      "source": [
        "## Read Airport Data from CSV File"
      ]
    },
    {
      "metadata": {
        "id": "ZJ5SdHIM9Dsy",
        "colab_type": "code",
        "colab": {}
      },
      "cell_type": "code",
      "source": [
        "dt = pd.read_csv('http://ourairports.com/data/airports.csv', delimiter = ',')"
      ],
      "execution_count": 0,
      "outputs": []
    },
    {
      "metadata": {
        "id": "ls51-2X6YFCr",
        "colab_type": "text"
      },
      "cell_type": "markdown",
      "source": [
        "Check if CSV file could be loaded and show the first 5 rows from the dataframe"
      ]
    },
    {
      "metadata": {
        "id": "cHWKDGUr-BE3",
        "colab_type": "code",
        "outputId": "0d88a6e6-9364-4af1-971a-1d8b46757968",
        "colab": {
          "base_uri": "https://localhost:8080/",
          "height": 360
        }
      },
      "cell_type": "code",
      "source": [
        "dt.head(5)"
      ],
      "execution_count": 4,
      "outputs": [
        {
          "output_type": "execute_result",
          "data": {
            "text/html": [
              "<div>\n",
              "<style scoped>\n",
              "    .dataframe tbody tr th:only-of-type {\n",
              "        vertical-align: middle;\n",
              "    }\n",
              "\n",
              "    .dataframe tbody tr th {\n",
              "        vertical-align: top;\n",
              "    }\n",
              "\n",
              "    .dataframe thead th {\n",
              "        text-align: right;\n",
              "    }\n",
              "</style>\n",
              "<table border=\"1\" class=\"dataframe\">\n",
              "  <thead>\n",
              "    <tr style=\"text-align: right;\">\n",
              "      <th></th>\n",
              "      <th>id</th>\n",
              "      <th>ident</th>\n",
              "      <th>type</th>\n",
              "      <th>name</th>\n",
              "      <th>latitude_deg</th>\n",
              "      <th>longitude_deg</th>\n",
              "      <th>elevation_ft</th>\n",
              "      <th>continent</th>\n",
              "      <th>iso_country</th>\n",
              "      <th>iso_region</th>\n",
              "      <th>municipality</th>\n",
              "      <th>scheduled_service</th>\n",
              "      <th>gps_code</th>\n",
              "      <th>iata_code</th>\n",
              "      <th>local_code</th>\n",
              "      <th>home_link</th>\n",
              "      <th>wikipedia_link</th>\n",
              "      <th>keywords</th>\n",
              "    </tr>\n",
              "  </thead>\n",
              "  <tbody>\n",
              "    <tr>\n",
              "      <th>0</th>\n",
              "      <td>6523</td>\n",
              "      <td>00A</td>\n",
              "      <td>heliport</td>\n",
              "      <td>Total Rf Heliport</td>\n",
              "      <td>40.070801</td>\n",
              "      <td>-74.933601</td>\n",
              "      <td>11.0</td>\n",
              "      <td>NaN</td>\n",
              "      <td>US</td>\n",
              "      <td>US-PA</td>\n",
              "      <td>Bensalem</td>\n",
              "      <td>no</td>\n",
              "      <td>00A</td>\n",
              "      <td>NaN</td>\n",
              "      <td>00A</td>\n",
              "      <td>NaN</td>\n",
              "      <td>NaN</td>\n",
              "      <td>NaN</td>\n",
              "    </tr>\n",
              "    <tr>\n",
              "      <th>1</th>\n",
              "      <td>323361</td>\n",
              "      <td>00AA</td>\n",
              "      <td>small_airport</td>\n",
              "      <td>Aero B Ranch Airport</td>\n",
              "      <td>38.704022</td>\n",
              "      <td>-101.473911</td>\n",
              "      <td>3435.0</td>\n",
              "      <td>NaN</td>\n",
              "      <td>US</td>\n",
              "      <td>US-KS</td>\n",
              "      <td>Leoti</td>\n",
              "      <td>no</td>\n",
              "      <td>00AA</td>\n",
              "      <td>NaN</td>\n",
              "      <td>00AA</td>\n",
              "      <td>NaN</td>\n",
              "      <td>NaN</td>\n",
              "      <td>NaN</td>\n",
              "    </tr>\n",
              "    <tr>\n",
              "      <th>2</th>\n",
              "      <td>6524</td>\n",
              "      <td>00AK</td>\n",
              "      <td>small_airport</td>\n",
              "      <td>Lowell Field</td>\n",
              "      <td>59.949200</td>\n",
              "      <td>-151.695999</td>\n",
              "      <td>450.0</td>\n",
              "      <td>NaN</td>\n",
              "      <td>US</td>\n",
              "      <td>US-AK</td>\n",
              "      <td>Anchor Point</td>\n",
              "      <td>no</td>\n",
              "      <td>00AK</td>\n",
              "      <td>NaN</td>\n",
              "      <td>00AK</td>\n",
              "      <td>NaN</td>\n",
              "      <td>NaN</td>\n",
              "      <td>NaN</td>\n",
              "    </tr>\n",
              "    <tr>\n",
              "      <th>3</th>\n",
              "      <td>6525</td>\n",
              "      <td>00AL</td>\n",
              "      <td>small_airport</td>\n",
              "      <td>Epps Airpark</td>\n",
              "      <td>34.864799</td>\n",
              "      <td>-86.770302</td>\n",
              "      <td>820.0</td>\n",
              "      <td>NaN</td>\n",
              "      <td>US</td>\n",
              "      <td>US-AL</td>\n",
              "      <td>Harvest</td>\n",
              "      <td>no</td>\n",
              "      <td>00AL</td>\n",
              "      <td>NaN</td>\n",
              "      <td>00AL</td>\n",
              "      <td>NaN</td>\n",
              "      <td>NaN</td>\n",
              "      <td>NaN</td>\n",
              "    </tr>\n",
              "    <tr>\n",
              "      <th>4</th>\n",
              "      <td>6526</td>\n",
              "      <td>00AR</td>\n",
              "      <td>closed</td>\n",
              "      <td>Newport Hospital &amp; Clinic Heliport</td>\n",
              "      <td>35.608700</td>\n",
              "      <td>-91.254898</td>\n",
              "      <td>237.0</td>\n",
              "      <td>NaN</td>\n",
              "      <td>US</td>\n",
              "      <td>US-AR</td>\n",
              "      <td>Newport</td>\n",
              "      <td>no</td>\n",
              "      <td>NaN</td>\n",
              "      <td>NaN</td>\n",
              "      <td>NaN</td>\n",
              "      <td>NaN</td>\n",
              "      <td>NaN</td>\n",
              "      <td>00AR</td>\n",
              "    </tr>\n",
              "  </tbody>\n",
              "</table>\n",
              "</div>"
            ],
            "text/plain": [
              "       id ident           type                                name  \\\n",
              "0    6523   00A       heliport                   Total Rf Heliport   \n",
              "1  323361  00AA  small_airport                Aero B Ranch Airport   \n",
              "2    6524  00AK  small_airport                        Lowell Field   \n",
              "3    6525  00AL  small_airport                        Epps Airpark   \n",
              "4    6526  00AR         closed  Newport Hospital & Clinic Heliport   \n",
              "\n",
              "   latitude_deg  longitude_deg  elevation_ft continent iso_country iso_region  \\\n",
              "0     40.070801     -74.933601          11.0       NaN          US      US-PA   \n",
              "1     38.704022    -101.473911        3435.0       NaN          US      US-KS   \n",
              "2     59.949200    -151.695999         450.0       NaN          US      US-AK   \n",
              "3     34.864799     -86.770302         820.0       NaN          US      US-AL   \n",
              "4     35.608700     -91.254898         237.0       NaN          US      US-AR   \n",
              "\n",
              "   municipality scheduled_service gps_code iata_code local_code home_link  \\\n",
              "0      Bensalem                no      00A       NaN        00A       NaN   \n",
              "1         Leoti                no     00AA       NaN       00AA       NaN   \n",
              "2  Anchor Point                no     00AK       NaN       00AK       NaN   \n",
              "3       Harvest                no     00AL       NaN       00AL       NaN   \n",
              "4       Newport                no      NaN       NaN        NaN       NaN   \n",
              "\n",
              "  wikipedia_link keywords  \n",
              "0            NaN      NaN  \n",
              "1            NaN      NaN  \n",
              "2            NaN      NaN  \n",
              "3            NaN      NaN  \n",
              "4            NaN     00AR  "
            ]
          },
          "metadata": {
            "tags": []
          },
          "execution_count": 4
        }
      ]
    },
    {
      "metadata": {
        "id": "hNM52Mi8XhTC",
        "colab_type": "text"
      },
      "cell_type": "markdown",
      "source": [
        "## Define Methode to calculate great circle distance between two points "
      ]
    },
    {
      "metadata": {
        "id": "N65d0sfU_PAL",
        "colab_type": "code",
        "colab": {}
      },
      "cell_type": "code",
      "source": [
        "def haversine(lon1, lat1, lon2, lat2):\n",
        "    \"\"\"\n",
        "    Calculate the great circle distance between two points \n",
        "    on the earth (specified in decimal degrees).\n",
        "    Source: https://gis.stackexchange.com/a/56589/15183\n",
        "    \"\"\"\n",
        "    # convert decimal degrees to radians \n",
        "    lon1, lat1, lon2, lat2 = map(math.radians, [lon1, lat1, lon2, lat2])\n",
        "    # haversine formula \n",
        "    dlon = lon2 - lon1 \n",
        "    dlat = lat2 - lat1 \n",
        "    a = math.sin(dlat/2)**2 + math.cos(lat1) * math.cos(lat2) * math.sin(dlon/2)**2\n",
        "    c = 2 * math.asin(math.sqrt(a)) \n",
        "    km = 6367 * c\n",
        "    return km"
      ],
      "execution_count": 0,
      "outputs": []
    },
    {
      "metadata": {
        "id": "ZR-gy7XtX4fW",
        "colab_type": "text"
      },
      "cell_type": "markdown",
      "source": [
        "Define additional method to calculte distiance between two IATA codes"
      ]
    },
    {
      "metadata": {
        "id": "weIiZrRzQZo-",
        "colab_type": "code",
        "colab": {}
      },
      "cell_type": "code",
      "source": [
        "def calcAirportDistance(iataCodeOrigin, iataCodeDestination): \n",
        "  orig = dt[dt.iata_code == iataCodeOrigin]\n",
        "  dest = dt[dt.iata_code == iataCodeDestination]\n",
        "  return haversine(orig.longitude_deg.values[0],orig.latitude_deg.values[0],dest.longitude_deg.values[0],dest.latitude_deg.values[0])"
      ],
      "execution_count": 0,
      "outputs": []
    },
    {
      "metadata": {
        "id": "SFQ2M6_gYN0B",
        "colab_type": "text"
      },
      "cell_type": "markdown",
      "source": [
        "Simple test to calculate the distance between ZRH and LAX\n",
        "\n",
        "---\n",
        "\n",
        "Validate the result http://www.wolframalpha.com/input/?i=ZRH+to+LAX+distance"
      ]
    },
    {
      "metadata": {
        "id": "8W16q0ctKOl_",
        "colab_type": "code",
        "outputId": "d6b37457-2174-479c-db59-b3a595de5f6f",
        "colab": {
          "base_uri": "https://localhost:8080/",
          "height": 34
        }
      },
      "cell_type": "code",
      "source": [
        "calcAirportDistance ('ZRH', 'LAX')"
      ],
      "execution_count": 7,
      "outputs": [
        {
          "output_type": "execute_result",
          "data": {
            "text/plain": [
              "9528.113287456748"
            ]
          },
          "metadata": {
            "tags": []
          },
          "execution_count": 7
        }
      ]
    },
    {
      "metadata": {
        "id": "V4zl1Vs8ZYZH",
        "colab_type": "text"
      },
      "cell_type": "markdown",
      "source": [
        "Simple test to calculate the distance between ZRH and FRA\n",
        "\n",
        "---\n",
        "\n",
        "Validate the result http://www.wolframalpha.com/input/?i=ZRH+to+FRA+distance"
      ]
    },
    {
      "metadata": {
        "id": "Z1SI0rdvNt29",
        "colab_type": "code",
        "outputId": "e4662e51-33ef-417b-9147-1cdb8db751a3",
        "colab": {
          "base_uri": "https://localhost:8080/",
          "height": 34
        }
      },
      "cell_type": "code",
      "source": [
        "calcAirportDistance ('ZRH', 'FRA')"
      ],
      "execution_count": 8,
      "outputs": [
        {
          "output_type": "execute_result",
          "data": {
            "text/plain": [
              "285.4440422920255"
            ]
          },
          "metadata": {
            "tags": []
          },
          "execution_count": 8
        }
      ]
    },
    {
      "metadata": {
        "id": "tYmA_nDaSga7",
        "colab_type": "code",
        "cellView": "form",
        "outputId": "f47e0481-ea61-4a89-9fd2-11b3f3233aae",
        "colab": {
          "base_uri": "https://localhost:8080/",
          "height": 34
        }
      },
      "cell_type": "code",
      "source": [
        "#@title Airport Distance Calculator\n",
        "\n",
        "origin = 'ZRH' #@param {type:\"string\"}\n",
        "destination = 'LAX' #@param {type:\"string\"}\n",
        "\n",
        "distance = calcAirportDistance (origin, destination)\n",
        "\n",
        "print (f\"Distance between {origin} and {destination} in km: {distance}\")"
      ],
      "execution_count": 9,
      "outputs": [
        {
          "output_type": "stream",
          "text": [
            "Distance between ZRH and LAX in km: 9528.113287456748\n"
          ],
          "name": "stdout"
        }
      ]
    },
    {
      "metadata": {
        "id": "k5Pidbm3UqBc",
        "colab_type": "code",
        "colab": {}
      },
      "cell_type": "code",
      "source": [
        ""
      ],
      "execution_count": 0,
      "outputs": []
    }
  ]
}