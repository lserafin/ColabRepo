{
  "nbformat": 4,
  "nbformat_minor": 0,
  "metadata": {
    "colab": {
      "name": "PortfolioOptimization.ipynb",
      "provenance": [],
      "toc_visible": true,
      "authorship_tag": "ABX9TyNPXYiKFfxCc0lhijoK1pII",
      "include_colab_link": true
    },
    "kernelspec": {
      "name": "python3",
      "display_name": "Python 3"
    }
  },
  "cells": [
    {
      "cell_type": "markdown",
      "metadata": {
        "id": "view-in-github",
        "colab_type": "text"
      },
      "source": [
        "<a href=\"https://colab.research.google.com/github/lserafin/ColabRepo/blob/master/PortfolioOptimizationCrypto.ipynb\" target=\"_parent\"><img src=\"https://colab.research.google.com/assets/colab-badge.svg\" alt=\"Open In Colab\"/></a>"
      ]
    },
    {
      "cell_type": "markdown",
      "metadata": {
        "id": "-AufIpXoLgzl"
      },
      "source": [
        "Source: https://randerson112358.medium.com/python-for-finance-portfolio-optimization-66882498847"
      ]
    },
    {
      "cell_type": "code",
      "metadata": {
        "id": "cOU5TSs8KRaL"
      },
      "source": [
        "# Import the python libraries\n",
        "from pandas_datareader import data as web\n",
        "import pandas as pd\n",
        "import numpy as np\n",
        "from datetime import datetime\n",
        "import matplotlib.pyplot as plt\n",
        "plt.style.use('fivethirtyeight')"
      ],
      "execution_count": 1,
      "outputs": []
    },
    {
      "cell_type": "markdown",
      "metadata": {
        "id": "i_XkYkVGM9BS"
      },
      "source": [
        "# Create The Fictional Portfolio"
      ]
    },
    {
      "cell_type": "code",
      "metadata": {
        "id": "BdOPMiA7KVHz"
      },
      "source": [
        "# Assets\n",
        "assets =  [\"BTC-USD\", \"ETH-USD\", \"XRP-USD\", \"LTC-USD\", \"BCH-USD\"]"
      ],
      "execution_count": 95,
      "outputs": []
    },
    {
      "cell_type": "code",
      "metadata": {
        "colab": {
          "base_uri": "https://localhost:8080/"
        },
        "id": "7waR_YHmKoIY",
        "outputId": "567cd2c2-4693-4622-ceaf-73db113da02f"
      },
      "source": [
        "# Assign weights to the stocks. Weights must = 1 so 0.2 for each\n",
        "weights = np.array([0.2, 0.2, 0.2, 0.2, 0.2])\n",
        "weights"
      ],
      "execution_count": 96,
      "outputs": [
        {
          "output_type": "execute_result",
          "data": {
            "text/plain": [
              "array([0.2, 0.2, 0.2, 0.2, 0.2])"
            ]
          },
          "metadata": {
            "tags": []
          },
          "execution_count": 96
        }
      ]
    },
    {
      "cell_type": "code",
      "metadata": {
        "id": "_mUWUHBSKqUD"
      },
      "source": [
        "#Get the stock starting date\n",
        "stockStartDate = '2020-01-01'\n",
        "# Get the stocks ending date aka todays date and format it in the form YYYY-MM-DD\n",
        "today = datetime.today().strftime('%Y-%m-%d')"
      ],
      "execution_count": 97,
      "outputs": []
    },
    {
      "cell_type": "code",
      "metadata": {
        "id": "jHAOCZ-XKtHi"
      },
      "source": [
        "#Create a dataframe to store the adjusted close price of the stocks\n",
        "df = pd.DataFrame()\n",
        "#Store the adjusted close price of stock into the data frame\n",
        "for stock in assets:\n",
        "   df[stock] = web.DataReader(stock,data_source='yahoo',start=stockStartDate , end=today)['Adj Close']"
      ],
      "execution_count": 98,
      "outputs": []
    },
    {
      "cell_type": "code",
      "metadata": {
        "colab": {
          "base_uri": "https://localhost:8080/",
          "height": 446
        },
        "id": "BVaY503DKvDC",
        "outputId": "ca1090c2-bf65-46b2-e16c-f982829aabda"
      },
      "source": [
        "df"
      ],
      "execution_count": 99,
      "outputs": [
        {
          "output_type": "execute_result",
          "data": {
            "text/html": [
              "<div>\n",
              "<style scoped>\n",
              "    .dataframe tbody tr th:only-of-type {\n",
              "        vertical-align: middle;\n",
              "    }\n",
              "\n",
              "    .dataframe tbody tr th {\n",
              "        vertical-align: top;\n",
              "    }\n",
              "\n",
              "    .dataframe thead th {\n",
              "        text-align: right;\n",
              "    }\n",
              "</style>\n",
              "<table border=\"1\" class=\"dataframe\">\n",
              "  <thead>\n",
              "    <tr style=\"text-align: right;\">\n",
              "      <th></th>\n",
              "      <th>BTC-USD</th>\n",
              "      <th>ETH-USD</th>\n",
              "      <th>XRP-USD</th>\n",
              "      <th>LTC-USD</th>\n",
              "      <th>BCH-USD</th>\n",
              "    </tr>\n",
              "    <tr>\n",
              "      <th>Date</th>\n",
              "      <th></th>\n",
              "      <th></th>\n",
              "      <th></th>\n",
              "      <th></th>\n",
              "      <th></th>\n",
              "    </tr>\n",
              "  </thead>\n",
              "  <tbody>\n",
              "    <tr>\n",
              "      <th>2020-01-01</th>\n",
              "      <td>7200.174316</td>\n",
              "      <td>130.802002</td>\n",
              "      <td>0.192667</td>\n",
              "      <td>42.017719</td>\n",
              "      <td>204.397537</td>\n",
              "    </tr>\n",
              "    <tr>\n",
              "      <th>2020-01-02</th>\n",
              "      <td>6985.470215</td>\n",
              "      <td>127.410179</td>\n",
              "      <td>0.188043</td>\n",
              "      <td>39.823017</td>\n",
              "      <td>195.698563</td>\n",
              "    </tr>\n",
              "    <tr>\n",
              "      <th>2020-01-03</th>\n",
              "      <td>7344.884277</td>\n",
              "      <td>134.171707</td>\n",
              "      <td>0.193521</td>\n",
              "      <td>42.415573</td>\n",
              "      <td>222.412979</td>\n",
              "    </tr>\n",
              "    <tr>\n",
              "      <th>2020-01-04</th>\n",
              "      <td>7410.656738</td>\n",
              "      <td>135.069366</td>\n",
              "      <td>0.194355</td>\n",
              "      <td>43.326607</td>\n",
              "      <td>226.018692</td>\n",
              "    </tr>\n",
              "    <tr>\n",
              "      <th>2020-01-05</th>\n",
              "      <td>7411.317383</td>\n",
              "      <td>136.276779</td>\n",
              "      <td>0.195537</td>\n",
              "      <td>43.553207</td>\n",
              "      <td>224.096527</td>\n",
              "    </tr>\n",
              "    <tr>\n",
              "      <th>...</th>\n",
              "      <td>...</td>\n",
              "      <td>...</td>\n",
              "      <td>...</td>\n",
              "      <td>...</td>\n",
              "      <td>...</td>\n",
              "    </tr>\n",
              "    <tr>\n",
              "      <th>2020-11-30</th>\n",
              "      <td>19625.835938</td>\n",
              "      <td>614.842529</td>\n",
              "      <td>0.664337</td>\n",
              "      <td>87.574631</td>\n",
              "      <td>316.420197</td>\n",
              "    </tr>\n",
              "    <tr>\n",
              "      <th>2020-12-01</th>\n",
              "      <td>18802.998047</td>\n",
              "      <td>587.324158</td>\n",
              "      <td>0.612923</td>\n",
              "      <td>85.435768</td>\n",
              "      <td>288.135834</td>\n",
              "    </tr>\n",
              "    <tr>\n",
              "      <th>2020-12-02</th>\n",
              "      <td>19201.091797</td>\n",
              "      <td>598.352356</td>\n",
              "      <td>0.629893</td>\n",
              "      <td>88.856514</td>\n",
              "      <td>294.251068</td>\n",
              "    </tr>\n",
              "    <tr>\n",
              "      <th>2020-12-03</th>\n",
              "      <td>19445.398438</td>\n",
              "      <td>616.708740</td>\n",
              "      <td>0.631483</td>\n",
              "      <td>89.098969</td>\n",
              "      <td>292.295349</td>\n",
              "    </tr>\n",
              "    <tr>\n",
              "      <th>2020-12-04</th>\n",
              "      <td>19096.173828</td>\n",
              "      <td>594.045959</td>\n",
              "      <td>0.601566</td>\n",
              "      <td>85.500053</td>\n",
              "      <td>291.054230</td>\n",
              "    </tr>\n",
              "  </tbody>\n",
              "</table>\n",
              "<p>339 rows × 5 columns</p>\n",
              "</div>"
            ],
            "text/plain": [
              "                 BTC-USD     ETH-USD   XRP-USD    LTC-USD     BCH-USD\n",
              "Date                                                                 \n",
              "2020-01-01   7200.174316  130.802002  0.192667  42.017719  204.397537\n",
              "2020-01-02   6985.470215  127.410179  0.188043  39.823017  195.698563\n",
              "2020-01-03   7344.884277  134.171707  0.193521  42.415573  222.412979\n",
              "2020-01-04   7410.656738  135.069366  0.194355  43.326607  226.018692\n",
              "2020-01-05   7411.317383  136.276779  0.195537  43.553207  224.096527\n",
              "...                  ...         ...       ...        ...         ...\n",
              "2020-11-30  19625.835938  614.842529  0.664337  87.574631  316.420197\n",
              "2020-12-01  18802.998047  587.324158  0.612923  85.435768  288.135834\n",
              "2020-12-02  19201.091797  598.352356  0.629893  88.856514  294.251068\n",
              "2020-12-03  19445.398438  616.708740  0.631483  89.098969  292.295349\n",
              "2020-12-04  19096.173828  594.045959  0.601566  85.500053  291.054230\n",
              "\n",
              "[339 rows x 5 columns]"
            ]
          },
          "metadata": {
            "tags": []
          },
          "execution_count": 99
        }
      ]
    },
    {
      "cell_type": "code",
      "metadata": {
        "colab": {
          "base_uri": "https://localhost:8080/",
          "height": 328
        },
        "id": "wMtxCTVWK1V6",
        "outputId": "2d6438d1-ae7f-44a5-97cc-3ed2754fd7c6"
      },
      "source": [
        "# Create the title 'Portfolio Adj Close Price History\n",
        "title = 'Portfolio Adj. Close Price History    '\n",
        "#Get the stocks\n",
        "my_stocks = df\n",
        "#Create and plot the graph\n",
        "plt.figure(figsize=(12.2,4.5)) #width = 12.2in, height = 4.5\n",
        "# Loop through each stock and plot the Adj Close for each day\n",
        "for c in my_stocks.columns.values:\n",
        "  plt.plot( my_stocks[c],  label=c)#plt.plot( X-Axis , Y-Axis, line_width, alpha_for_blending,  label)\n",
        "plt.title(title)\n",
        "plt.xlabel('Date',fontsize=18)\n",
        "plt.ylabel('Adj. Price USD ($)',fontsize=18)\n",
        "plt.legend(my_stocks.columns.values, loc='upper left')\n",
        "plt.show()"
      ],
      "execution_count": 100,
      "outputs": [
        {
          "output_type": "display_data",
          "data": {
            "image/png": "[encoded data removed]",
            "text/plain": [
              "<Figure size 878.4x324 with 1 Axes>"
            ]
          },
          "metadata": {
            "tags": [],
            "needs_background": "light"
          }
        }
      ]
    },
    {
      "cell_type": "code",
      "metadata": {
        "colab": {
          "base_uri": "https://localhost:8080/",
          "height": 446
        },
        "id": "P-T00jebLCFC",
        "outputId": "c5f37e50-ad6b-494f-9cde-c72aa36b4b45"
      },
      "source": [
        "#Show the daily simple returns, NOTE: Formula = new_price/old_price - 1\n",
        "returns = df.pct_change()\n",
        "returns"
      ],
      "execution_count": 101,
      "outputs": [
        {
          "output_type": "execute_result",
          "data": {
            "text/html": [
              "<div>\n",
              "<style scoped>\n",
              "    .dataframe tbody tr th:only-of-type {\n",
              "        vertical-align: middle;\n",
              "    }\n",
              "\n",
              "    .dataframe tbody tr th {\n",
              "        vertical-align: top;\n",
              "    }\n",
              "\n",
              "    .dataframe thead th {\n",
              "        text-align: right;\n",
              "    }\n",
              "</style>\n",
              "<table border=\"1\" class=\"dataframe\">\n",
              "  <thead>\n",
              "    <tr style=\"text-align: right;\">\n",
              "      <th></th>\n",
              "      <th>BTC-USD</th>\n",
              "      <th>ETH-USD</th>\n",
              "      <th>XRP-USD</th>\n",
              "      <th>LTC-USD</th>\n",
              "      <th>BCH-USD</th>\n",
              "    </tr>\n",
              "    <tr>\n",
              "      <th>Date</th>\n",
              "      <th></th>\n",
              "      <th></th>\n",
              "      <th></th>\n",
              "      <th></th>\n",
              "      <th></th>\n",
              "    </tr>\n",
              "  </thead>\n",
              "  <tbody>\n",
              "    <tr>\n",
              "      <th>2020-01-01</th>\n",
              "      <td>NaN</td>\n",
              "      <td>NaN</td>\n",
              "      <td>NaN</td>\n",
              "      <td>NaN</td>\n",
              "      <td>NaN</td>\n",
              "    </tr>\n",
              "    <tr>\n",
              "      <th>2020-01-02</th>\n",
              "      <td>-0.029819</td>\n",
              "      <td>-0.025931</td>\n",
              "      <td>-0.024004</td>\n",
              "      <td>-0.052233</td>\n",
              "      <td>-0.042559</td>\n",
              "    </tr>\n",
              "    <tr>\n",
              "      <th>2020-01-03</th>\n",
              "      <td>0.051452</td>\n",
              "      <td>0.053069</td>\n",
              "      <td>0.029134</td>\n",
              "      <td>0.065102</td>\n",
              "      <td>0.136508</td>\n",
              "    </tr>\n",
              "    <tr>\n",
              "      <th>2020-01-04</th>\n",
              "      <td>0.008955</td>\n",
              "      <td>0.006690</td>\n",
              "      <td>0.004311</td>\n",
              "      <td>0.021479</td>\n",
              "      <td>0.016212</td>\n",
              "    </tr>\n",
              "    <tr>\n",
              "      <th>2020-01-05</th>\n",
              "      <td>0.000089</td>\n",
              "      <td>0.008939</td>\n",
              "      <td>0.006081</td>\n",
              "      <td>0.005230</td>\n",
              "      <td>-0.008504</td>\n",
              "    </tr>\n",
              "    <tr>\n",
              "      <th>...</th>\n",
              "      <td>...</td>\n",
              "      <td>...</td>\n",
              "      <td>...</td>\n",
              "      <td>...</td>\n",
              "      <td>...</td>\n",
              "    </tr>\n",
              "    <tr>\n",
              "      <th>2020-11-30</th>\n",
              "      <td>0.079678</td>\n",
              "      <td>0.067884</td>\n",
              "      <td>0.095821</td>\n",
              "      <td>0.105251</td>\n",
              "      <td>0.114424</td>\n",
              "    </tr>\n",
              "    <tr>\n",
              "      <th>2020-12-01</th>\n",
              "      <td>-0.041926</td>\n",
              "      <td>-0.044757</td>\n",
              "      <td>-0.077391</td>\n",
              "      <td>-0.024423</td>\n",
              "      <td>-0.089389</td>\n",
              "    </tr>\n",
              "    <tr>\n",
              "      <th>2020-12-02</th>\n",
              "      <td>0.021172</td>\n",
              "      <td>0.018777</td>\n",
              "      <td>0.027686</td>\n",
              "      <td>0.040039</td>\n",
              "      <td>0.021223</td>\n",
              "    </tr>\n",
              "    <tr>\n",
              "      <th>2020-12-03</th>\n",
              "      <td>0.012724</td>\n",
              "      <td>0.030678</td>\n",
              "      <td>0.002524</td>\n",
              "      <td>0.002729</td>\n",
              "      <td>-0.006646</td>\n",
              "    </tr>\n",
              "    <tr>\n",
              "      <th>2020-12-04</th>\n",
              "      <td>-0.017959</td>\n",
              "      <td>-0.036748</td>\n",
              "      <td>-0.047375</td>\n",
              "      <td>-0.040392</td>\n",
              "      <td>-0.004246</td>\n",
              "    </tr>\n",
              "  </tbody>\n",
              "</table>\n",
              "<p>339 rows × 5 columns</p>\n",
              "</div>"
            ],
            "text/plain": [
              "             BTC-USD   ETH-USD   XRP-USD   LTC-USD   BCH-USD\n",
              "Date                                                        \n",
              "2020-01-01       NaN       NaN       NaN       NaN       NaN\n",
              "2020-01-02 -0.029819 -0.025931 -0.024004 -0.052233 -0.042559\n",
              "2020-01-03  0.051452  0.053069  0.029134  0.065102  0.136508\n",
              "2020-01-04  0.008955  0.006690  0.004311  0.021479  0.016212\n",
              "2020-01-05  0.000089  0.008939  0.006081  0.005230 -0.008504\n",
              "...              ...       ...       ...       ...       ...\n",
              "2020-11-30  0.079678  0.067884  0.095821  0.105251  0.114424\n",
              "2020-12-01 -0.041926 -0.044757 -0.077391 -0.024423 -0.089389\n",
              "2020-12-02  0.021172  0.018777  0.027686  0.040039  0.021223\n",
              "2020-12-03  0.012724  0.030678  0.002524  0.002729 -0.006646\n",
              "2020-12-04 -0.017959 -0.036748 -0.047375 -0.040392 -0.004246\n",
              "\n",
              "[339 rows x 5 columns]"
            ]
          },
          "metadata": {
            "tags": []
          },
          "execution_count": 101
        }
      ]
    },
    {
      "cell_type": "code",
      "metadata": {
        "colab": {
          "base_uri": "https://localhost:8080/",
          "height": 202
        },
        "id": "_TeR28obLFpT",
        "outputId": "0977dd5c-b2d9-4138-9c71-54cca9ff0b91"
      },
      "source": [
        "# co-variance matrix (https://en.wikipedia.org/wiki/Covariance_matrix)\n",
        "cov_matrix_annual = returns.cov() * 252\n",
        "cov_matrix_annual"
      ],
      "execution_count": 102,
      "outputs": [
        {
          "output_type": "execute_result",
          "data": {
            "text/html": [
              "<div>\n",
              "<style scoped>\n",
              "    .dataframe tbody tr th:only-of-type {\n",
              "        vertical-align: middle;\n",
              "    }\n",
              "\n",
              "    .dataframe tbody tr th {\n",
              "        vertical-align: top;\n",
              "    }\n",
              "\n",
              "    .dataframe thead th {\n",
              "        text-align: right;\n",
              "    }\n",
              "</style>\n",
              "<table border=\"1\" class=\"dataframe\">\n",
              "  <thead>\n",
              "    <tr style=\"text-align: right;\">\n",
              "      <th></th>\n",
              "      <th>BTC-USD</th>\n",
              "      <th>ETH-USD</th>\n",
              "      <th>XRP-USD</th>\n",
              "      <th>LTC-USD</th>\n",
              "      <th>BCH-USD</th>\n",
              "    </tr>\n",
              "  </thead>\n",
              "  <tbody>\n",
              "    <tr>\n",
              "      <th>BTC-USD</th>\n",
              "      <td>0.366388</td>\n",
              "      <td>0.408331</td>\n",
              "      <td>0.323770</td>\n",
              "      <td>0.400472</td>\n",
              "      <td>0.432289</td>\n",
              "    </tr>\n",
              "    <tr>\n",
              "      <th>ETH-USD</th>\n",
              "      <td>0.408331</td>\n",
              "      <td>0.632425</td>\n",
              "      <td>0.491687</td>\n",
              "      <td>0.538924</td>\n",
              "      <td>0.579223</td>\n",
              "    </tr>\n",
              "    <tr>\n",
              "      <th>XRP-USD</th>\n",
              "      <td>0.323770</td>\n",
              "      <td>0.491687</td>\n",
              "      <td>0.672097</td>\n",
              "      <td>0.470128</td>\n",
              "      <td>0.551531</td>\n",
              "    </tr>\n",
              "    <tr>\n",
              "      <th>LTC-USD</th>\n",
              "      <td>0.400472</td>\n",
              "      <td>0.538924</td>\n",
              "      <td>0.470128</td>\n",
              "      <td>0.614955</td>\n",
              "      <td>0.592796</td>\n",
              "    </tr>\n",
              "    <tr>\n",
              "      <th>BCH-USD</th>\n",
              "      <td>0.432289</td>\n",
              "      <td>0.579223</td>\n",
              "      <td>0.551531</td>\n",
              "      <td>0.592796</td>\n",
              "      <td>0.759103</td>\n",
              "    </tr>\n",
              "  </tbody>\n",
              "</table>\n",
              "</div>"
            ],
            "text/plain": [
              "          BTC-USD   ETH-USD   XRP-USD   LTC-USD   BCH-USD\n",
              "BTC-USD  0.366388  0.408331  0.323770  0.400472  0.432289\n",
              "ETH-USD  0.408331  0.632425  0.491687  0.538924  0.579223\n",
              "XRP-USD  0.323770  0.491687  0.672097  0.470128  0.551531\n",
              "LTC-USD  0.400472  0.538924  0.470128  0.614955  0.592796\n",
              "BCH-USD  0.432289  0.579223  0.551531  0.592796  0.759103"
            ]
          },
          "metadata": {
            "tags": []
          },
          "execution_count": 102
        }
      ]
    },
    {
      "cell_type": "code",
      "metadata": {
        "colab": {
          "base_uri": "https://localhost:8080/"
        },
        "id": "jyv2UC1NLJtS",
        "outputId": "bc65a770-cb21-42e4-9835-9ba1cd8b6876"
      },
      "source": [
        "# Expected portfolio variance= WT * (Covariance Matrix) * W\n",
        "port_variance = np.dot(weights.T, np.dot(cov_matrix_annual, weights))\n",
        "port_variance"
      ],
      "execution_count": 103,
      "outputs": [
        {
          "output_type": "execute_result",
          "data": {
            "text/plain": [
              "0.5049307467439414"
            ]
          },
          "metadata": {
            "tags": []
          },
          "execution_count": 103
        }
      ]
    },
    {
      "cell_type": "code",
      "metadata": {
        "colab": {
          "base_uri": "https://localhost:8080/"
        },
        "id": "uNWMmU5eLLm6",
        "outputId": "7b809348-a7ba-4392-84aa-90f558d6930a"
      },
      "source": [
        "# Expected portfolio volatility= SQRT (WT * (Covariance Matrix) * W)\n",
        "port_volatility = np.sqrt(port_variance)\n",
        "port_volatility"
      ],
      "execution_count": 104,
      "outputs": [
        {
          "output_type": "execute_result",
          "data": {
            "text/plain": [
              "0.7105847920860264"
            ]
          },
          "metadata": {
            "tags": []
          },
          "execution_count": 104
        }
      ]
    },
    {
      "cell_type": "code",
      "metadata": {
        "colab": {
          "base_uri": "https://localhost:8080/"
        },
        "id": "F8ZCkHqaL1ZR",
        "outputId": "931abf21-a858-4f95-b262-b8f01f332957"
      },
      "source": [
        "# Calculate the portfolio annual simple return.\n",
        "portfolioSimpleAnnualReturn = np.sum(returns.mean()*weights) * 252\n",
        "portfolioSimpleAnnualReturn"
      ],
      "execution_count": 105,
      "outputs": [
        {
          "output_type": "execute_result",
          "data": {
            "text/plain": [
              "1.0170162988925684"
            ]
          },
          "metadata": {
            "tags": []
          },
          "execution_count": 105
        }
      ]
    },
    {
      "cell_type": "code",
      "metadata": {
        "colab": {
          "base_uri": "https://localhost:8080/"
        },
        "id": "g2uQwa92MDWJ",
        "outputId": "c0cc749b-1ddc-4d34-9d85-1480f0a0db11"
      },
      "source": [
        "# Show the expected annual return, volatility or risk, and variance.\n",
        "percent_var = str(round(port_variance, 2) * 100) + '%'\n",
        "percent_vols = str(round(port_volatility, 2) * 100) + '%'\n",
        "percent_ret = str(round(portfolioSimpleAnnualReturn, 2)*100)+'%'\n",
        "print(\"Expected annual return : \"+ percent_ret)\n",
        "print('Annual volatility/standard deviation/risk : '+percent_vols)\n",
        "print('Annual variance : '+percent_var)"
      ],
      "execution_count": 106,
      "outputs": [
        {
          "output_type": "stream",
          "text": [
            "Expected annual return : 102.0%\n",
            "Annual volatility/standard deviation/risk : 71.0%\n",
            "Annual variance : 50.0%\n"
          ],
          "name": "stdout"
        }
      ]
    },
    {
      "cell_type": "code",
      "metadata": {
        "id": "PzNnQPYiMGSJ"
      },
      "source": [
        "# This are the numbers for each 20 % "
      ],
      "execution_count": 107,
      "outputs": []
    },
    {
      "cell_type": "code",
      "metadata": {
        "id": "bAx_gCdGMryf"
      },
      "source": [
        ""
      ],
      "execution_count": null,
      "outputs": []
    },
    {
      "cell_type": "markdown",
      "metadata": {
        "id": "NNH7FPWFMyla"
      },
      "source": [
        "# Optimize The Portfolio"
      ]
    },
    {
      "cell_type": "code",
      "metadata": {
        "colab": {
          "base_uri": "https://localhost:8080/"
        },
        "id": "ULluCFmcM0EZ",
        "outputId": "a9ba80c4-d155-4d9c-ae10-9a55eb1de00b"
      },
      "source": [
        "pip install PyPortfolioOpt"
      ],
      "execution_count": 108,
      "outputs": [
        {
          "output_type": "stream",
          "text": [
            "Requirement already satisfied: PyPortfolioOpt in /usr/local/lib/python3.6/dist-packages (1.2.7)\n",
            "Requirement already satisfied: pandas>=0.19 in /usr/local/lib/python3.6/dist-packages (from PyPortfolioOpt) (1.1.4)\n",
            "Requirement already satisfied: cvxpy<2.0,>=1.0 in /usr/local/lib/python3.6/dist-packages (from PyPortfolioOpt) (1.0.31)\n",
            "Requirement already satisfied: numpy<2.0,>=1.12 in /usr/local/lib/python3.6/dist-packages (from PyPortfolioOpt) (1.18.5)\n",
            "Requirement already satisfied: cvxopt<2.0,>=1.2 in /usr/local/lib/python3.6/dist-packages (from PyPortfolioOpt) (1.2.5)\n",
            "Requirement already satisfied: scipy<2.0,>=1.3 in /usr/local/lib/python3.6/dist-packages (from PyPortfolioOpt) (1.4.1)\n",
            "Requirement already satisfied: pytz>=2017.2 in /usr/local/lib/python3.6/dist-packages (from pandas>=0.19->PyPortfolioOpt) (2018.9)\n",
            "Requirement already satisfied: python-dateutil>=2.7.3 in /usr/local/lib/python3.6/dist-packages (from pandas>=0.19->PyPortfolioOpt) (2.8.1)\n",
            "Requirement already satisfied: scs>=1.1.3 in /usr/local/lib/python3.6/dist-packages (from cvxpy<2.0,>=1.0->PyPortfolioOpt) (2.1.2)\n",
            "Requirement already satisfied: osqp>=0.4.1 in /usr/local/lib/python3.6/dist-packages (from cvxpy<2.0,>=1.0->PyPortfolioOpt) (0.6.1)\n",
            "Requirement already satisfied: ecos>=2 in /usr/local/lib/python3.6/dist-packages (from cvxpy<2.0,>=1.0->PyPortfolioOpt) (2.0.7.post1)\n",
            "Requirement already satisfied: multiprocess in /usr/local/lib/python3.6/dist-packages (from cvxpy<2.0,>=1.0->PyPortfolioOpt) (0.70.11.1)\n",
            "Requirement already satisfied: six>=1.5 in /usr/local/lib/python3.6/dist-packages (from python-dateutil>=2.7.3->pandas>=0.19->PyPortfolioOpt) (1.15.0)\n",
            "Requirement already satisfied: future in /usr/local/lib/python3.6/dist-packages (from osqp>=0.4.1->cvxpy<2.0,>=1.0->PyPortfolioOpt) (0.16.0)\n",
            "Requirement already satisfied: dill>=0.3.3 in /usr/local/lib/python3.6/dist-packages (from multiprocess->cvxpy<2.0,>=1.0->PyPortfolioOpt) (0.3.3)\n"
          ],
          "name": "stdout"
        }
      ]
    },
    {
      "cell_type": "code",
      "metadata": {
        "id": "IT6Fmw3WNMLZ"
      },
      "source": [
        "from pypfopt.efficient_frontier import EfficientFrontier\n",
        "from pypfopt import risk_models\n",
        "from pypfopt import expected_returns"
      ],
      "execution_count": 109,
      "outputs": []
    },
    {
      "cell_type": "code",
      "metadata": {
        "id": "6y8HWD69NOmB"
      },
      "source": [
        "# Calculate the expected returns and the annualised sample covariance matrix of daily asset returns.\n",
        "mu = expected_returns.mean_historical_return(df)#returns.mean() * 252\n",
        "S = risk_models.sample_cov(df) #Get the sample covariance matrix"
      ],
      "execution_count": 110,
      "outputs": []
    },
    {
      "cell_type": "code",
      "metadata": {
        "colab": {
          "base_uri": "https://localhost:8080/"
        },
        "id": "SoHf5g--NSSx",
        "outputId": "952aff1b-8d32-4d60-faea-1defb90d98e9"
      },
      "source": [
        "# Optimize for maximal Sharpe ration\n",
        "ef = EfficientFrontier(mu, S)\n",
        "weights = ef.max_sharpe() #Maximize the Sharpe ratio, and get the raw weights\n",
        "cleaned_weights = ef.clean_weights() \n",
        "print(cleaned_weights) #Note the weights may have some rounding error, meaning they may not add up exactly to 1 but should be close\n",
        "ef.portfolio_performance(verbose=True)"
      ],
      "execution_count": 111,
      "outputs": [
        {
          "output_type": "stream",
          "text": [
            "OrderedDict([('BTC-USD', 0.0), ('ETH-USD', 1.0), ('XRP-USD', 0.0), ('LTC-USD', 0.0), ('BCH-USD', 0.0)])\n",
            "Expected annual return: 209.0%\n",
            "Annual volatility: 79.5%\n",
            "Sharpe Ratio: 2.60\n"
          ],
          "name": "stdout"
        },
        {
          "output_type": "execute_result",
          "data": {
            "text/plain": [
              "(2.0902075432317226, 0.7952512948099849, 2.6032117856864)"
            ]
          },
          "metadata": {
            "tags": []
          },
          "execution_count": 111
        }
      ]
    },
    {
      "cell_type": "code",
      "metadata": {
        "id": "65J6zkYyNUKB"
      },
      "source": [
        ""
      ],
      "execution_count": 111,
      "outputs": []
    }
  ]
}