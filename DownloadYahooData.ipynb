{
  "nbformat": 4,
  "nbformat_minor": 0,
  "metadata": {
    "colab": {
      "name": "DownloadYahooData.ipynb",
      "provenance": [],
      "authorship_tag": "ABX9TyOHl181j2B3RxEeSaOdljr1",
      "include_colab_link": true
    },
    "kernelspec": {
      "name": "python3",
      "display_name": "Python 3"
    },
    "language_info": {
      "name": "python"
    }
  },
  "cells": [
    {
      "cell_type": "markdown",
      "metadata": {
        "id": "view-in-github",
        "colab_type": "text"
      },
      "source": [
        "<a href=\"https://colab.research.google.com/github/lserafin/ColabRepo/blob/master/DownloadYahooData.ipynb\" target=\"_parent\"><img src=\"https://colab.research.google.com/assets/colab-badge.svg\" alt=\"Open In Colab\"/></a>"
      ]
    },
    {
      "cell_type": "code",
      "metadata": {
        "id": "NXdisoLL5bNU"
      },
      "source": [
        "import pandas as pd\n",
        "import datetime\n",
        "from datetime import datetime\n",
        "import seaborn as sns"
      ],
      "execution_count": 64,
      "outputs": []
    },
    {
      "cell_type": "code",
      "metadata": {
        "id": "lqsOYFl77dFC"
      },
      "source": [
        "#@title Time Period Start Date\n",
        "starte_date = '2020-01-02' #@param {type:\"date\"}\n",
        "\n",
        "#@title Time Period End Date\n",
        "end_date = '2021-11-10' #@param {type:\"date\"}\n",
        "\n",
        "asset = 'ETH' #@param [\"ETH\", \"BTC\", \"ZRX\"]\n",
        "\n",
        "# Parse as DateTime\n",
        "start_date_time_obj = datetime.strptime(starte_date, '%Y-%m-%d')\n",
        "end_date_time_obj = datetime.strptime(end_date, '%Y-%m-%d')\n",
        "\n",
        "# Convert as Epoch\n",
        "period1_str = start_date_time_obj.strftime('%s')\n",
        "period2_str = end_date_time_obj.strftime('%s')\n"
      ],
      "execution_count": 61,
      "outputs": []
    },
    {
      "cell_type": "code",
      "metadata": {
        "colab": {
          "base_uri": "https://localhost:8080/",
          "height": 423
        },
        "id": "sNuo55WL5ls2",
        "outputId": "6b5d6f13-1550-435a-d226-45ea741e19a2"
      },
      "source": [
        "#maxData = 'https://query1.finance.yahoo.com/v7/finance/download/ETH-USD?period1=1438905600&period2=1636502400&interval=1d&events=history&includeAdjustedClose=true'\n",
        "#queryExmpleURL = 'https://query1.finance.yahoo.com/v7/finance/download/ETH-USD?period1=1605012680&period2=1636548680&interval=1d&events=history&includeAdjustedClose=true'\n",
        "dynamicQueryURL = f\"https://query1.finance.yahoo.com/v7/finance/download/{asset}-USD?period1={period1_str}&period2={period2_str}&interval=1d&events=history&includeAdjustedClose=true\"\n",
        "data = pd.read_csv(dynamicQueryURL)\n",
        "data"
      ],
      "execution_count": 62,
      "outputs": [
        {
          "output_type": "execute_result",
          "data": {
            "text/html": [
              "<div>\n",
              "<style scoped>\n",
              "    .dataframe tbody tr th:only-of-type {\n",
              "        vertical-align: middle;\n",
              "    }\n",
              "\n",
              "    .dataframe tbody tr th {\n",
              "        vertical-align: top;\n",
              "    }\n",
              "\n",
              "    .dataframe thead th {\n",
              "        text-align: right;\n",
              "    }\n",
              "</style>\n",
              "<table border=\"1\" class=\"dataframe\">\n",
              "  <thead>\n",
              "    <tr style=\"text-align: right;\">\n",
              "      <th></th>\n",
              "      <th>Date</th>\n",
              "      <th>Open</th>\n",
              "      <th>High</th>\n",
              "      <th>Low</th>\n",
              "      <th>Close</th>\n",
              "      <th>Adj Close</th>\n",
              "      <th>Volume</th>\n",
              "    </tr>\n",
              "  </thead>\n",
              "  <tbody>\n",
              "    <tr>\n",
              "      <th>0</th>\n",
              "      <td>2020-01-02</td>\n",
              "      <td>130.820038</td>\n",
              "      <td>130.820038</td>\n",
              "      <td>126.954910</td>\n",
              "      <td>127.410179</td>\n",
              "      <td>127.410179</td>\n",
              "      <td>8.032709e+09</td>\n",
              "    </tr>\n",
              "    <tr>\n",
              "      <th>1</th>\n",
              "      <td>2020-01-03</td>\n",
              "      <td>127.411263</td>\n",
              "      <td>134.554016</td>\n",
              "      <td>126.490021</td>\n",
              "      <td>134.171707</td>\n",
              "      <td>134.171707</td>\n",
              "      <td>1.047685e+10</td>\n",
              "    </tr>\n",
              "    <tr>\n",
              "      <th>2</th>\n",
              "      <td>2020-01-04</td>\n",
              "      <td>134.168518</td>\n",
              "      <td>136.052719</td>\n",
              "      <td>133.040558</td>\n",
              "      <td>135.069366</td>\n",
              "      <td>135.069366</td>\n",
              "      <td>7.430905e+09</td>\n",
              "    </tr>\n",
              "    <tr>\n",
              "      <th>3</th>\n",
              "      <td>2020-01-05</td>\n",
              "      <td>135.072098</td>\n",
              "      <td>139.410202</td>\n",
              "      <td>135.045624</td>\n",
              "      <td>136.276779</td>\n",
              "      <td>136.276779</td>\n",
              "      <td>7.526675e+09</td>\n",
              "    </tr>\n",
              "    <tr>\n",
              "      <th>4</th>\n",
              "      <td>2020-01-06</td>\n",
              "      <td>136.305542</td>\n",
              "      <td>144.328186</td>\n",
              "      <td>136.079636</td>\n",
              "      <td>144.304153</td>\n",
              "      <td>144.304153</td>\n",
              "      <td>9.093747e+09</td>\n",
              "    </tr>\n",
              "    <tr>\n",
              "      <th>...</th>\n",
              "      <td>...</td>\n",
              "      <td>...</td>\n",
              "      <td>...</td>\n",
              "      <td>...</td>\n",
              "      <td>...</td>\n",
              "      <td>...</td>\n",
              "      <td>...</td>\n",
              "    </tr>\n",
              "    <tr>\n",
              "      <th>674</th>\n",
              "      <td>2021-11-06</td>\n",
              "      <td>4482.647949</td>\n",
              "      <td>4530.997070</td>\n",
              "      <td>4334.973633</td>\n",
              "      <td>4521.581055</td>\n",
              "      <td>4521.581055</td>\n",
              "      <td>1.442908e+10</td>\n",
              "    </tr>\n",
              "    <tr>\n",
              "      <th>675</th>\n",
              "      <td>2021-11-07</td>\n",
              "      <td>4523.981934</td>\n",
              "      <td>4640.921875</td>\n",
              "      <td>4510.984375</td>\n",
              "      <td>4620.554688</td>\n",
              "      <td>4620.554688</td>\n",
              "      <td>1.354138e+10</td>\n",
              "    </tr>\n",
              "    <tr>\n",
              "      <th>676</th>\n",
              "      <td>2021-11-08</td>\n",
              "      <td>4619.649414</td>\n",
              "      <td>4822.363281</td>\n",
              "      <td>4619.649414</td>\n",
              "      <td>4812.087402</td>\n",
              "      <td>4812.087402</td>\n",
              "      <td>1.929090e+10</td>\n",
              "    </tr>\n",
              "    <tr>\n",
              "      <th>677</th>\n",
              "      <td>2021-11-09</td>\n",
              "      <td>4810.071289</td>\n",
              "      <td>4837.589355</td>\n",
              "      <td>4718.039063</td>\n",
              "      <td>4735.068848</td>\n",
              "      <td>4735.068848</td>\n",
              "      <td>2.083417e+10</td>\n",
              "    </tr>\n",
              "    <tr>\n",
              "      <th>678</th>\n",
              "      <td>2021-11-10</td>\n",
              "      <td>4740.288574</td>\n",
              "      <td>4783.305664</td>\n",
              "      <td>4683.004883</td>\n",
              "      <td>4783.305664</td>\n",
              "      <td>4783.305664</td>\n",
              "      <td>1.778592e+10</td>\n",
              "    </tr>\n",
              "  </tbody>\n",
              "</table>\n",
              "<p>679 rows × 7 columns</p>\n",
              "</div>"
            ],
            "text/plain": [
              "           Date         Open  ...    Adj Close        Volume\n",
              "0    2020-01-02   130.820038  ...   127.410179  8.032709e+09\n",
              "1    2020-01-03   127.411263  ...   134.171707  1.047685e+10\n",
              "2    2020-01-04   134.168518  ...   135.069366  7.430905e+09\n",
              "3    2020-01-05   135.072098  ...   136.276779  7.526675e+09\n",
              "4    2020-01-06   136.305542  ...   144.304153  9.093747e+09\n",
              "..          ...          ...  ...          ...           ...\n",
              "674  2021-11-06  4482.647949  ...  4521.581055  1.442908e+10\n",
              "675  2021-11-07  4523.981934  ...  4620.554688  1.354138e+10\n",
              "676  2021-11-08  4619.649414  ...  4812.087402  1.929090e+10\n",
              "677  2021-11-09  4810.071289  ...  4735.068848  2.083417e+10\n",
              "678  2021-11-10  4740.288574  ...  4783.305664  1.778592e+10\n",
              "\n",
              "[679 rows x 7 columns]"
            ]
          },
          "metadata": {},
          "execution_count": 62
        }
      ]
    },
    {
      "cell_type": "markdown",
      "metadata": {
        "id": "N1npjwtjCaI2"
      },
      "source": [
        "Plot Price Data"
      ]
    },
    {
      "cell_type": "code",
      "metadata": {
        "colab": {
          "base_uri": "https://localhost:8080/",
          "height": 731
        },
        "id": "qBXxQzUZ7ccK",
        "outputId": "79de5e13-d37c-49f3-c9c4-95faa941a618"
      },
      "source": [
        "data = data.sort_values(by='Date')\n",
        "data.set_index('Date',inplace=True)\n",
        "data['Close'].plot(figsize=(16, 12))"
      ],
      "execution_count": 63,
      "outputs": [
        {
          "output_type": "execute_result",
          "data": {
            "text/plain": [
              "<matplotlib.axes._subplots.AxesSubplot at 0x7fb1f9d44c90>"
            ]
          },
          "metadata": {},
          "execution_count": 63
        },
        {
          "output_type": "display_data",
          "data": {
            "image/png": "[encoded data removed]",
            "text/plain": [
              "<Figure size 1152x864 with 1 Axes>"
            ]
          },
          "metadata": {
            "needs_background": "light"
          }
        }
      ]
    },
    {
      "cell_type": "code",
      "metadata": {
        "colab": {
          "base_uri": "https://localhost:8080/",
          "height": 423
        },
        "id": "kWviSh7u6BHQ",
        "outputId": "ca346cbb-921d-42c3-edaf-8b713d9a8d12"
      },
      "source": [
        ""
      ],
      "execution_count": 6,
      "outputs": [
        {
          "output_type": "execute_result",
          "data": {
            "text/html": [
              "<div>\n",
              "<style scoped>\n",
              "    .dataframe tbody tr th:only-of-type {\n",
              "        vertical-align: middle;\n",
              "    }\n",
              "\n",
              "    .dataframe tbody tr th {\n",
              "        vertical-align: top;\n",
              "    }\n",
              "\n",
              "    .dataframe thead th {\n",
              "        text-align: right;\n",
              "    }\n",
              "</style>\n",
              "<table border=\"1\" class=\"dataframe\">\n",
              "  <thead>\n",
              "    <tr style=\"text-align: right;\">\n",
              "      <th></th>\n",
              "      <th>Date</th>\n",
              "      <th>Open</th>\n",
              "      <th>High</th>\n",
              "      <th>Low</th>\n",
              "      <th>Close</th>\n",
              "      <th>Adj Close</th>\n",
              "      <th>Volume</th>\n",
              "    </tr>\n",
              "  </thead>\n",
              "  <tbody>\n",
              "    <tr>\n",
              "      <th>0</th>\n",
              "      <td>2015-08-07</td>\n",
              "      <td>2.831620</td>\n",
              "      <td>3.536610</td>\n",
              "      <td>2.521120</td>\n",
              "      <td>2.772120</td>\n",
              "      <td>2.772120</td>\n",
              "      <td>1.643290e+05</td>\n",
              "    </tr>\n",
              "    <tr>\n",
              "      <th>1</th>\n",
              "      <td>2015-08-08</td>\n",
              "      <td>2.793760</td>\n",
              "      <td>2.798810</td>\n",
              "      <td>0.714725</td>\n",
              "      <td>0.753325</td>\n",
              "      <td>0.753325</td>\n",
              "      <td>6.741880e+05</td>\n",
              "    </tr>\n",
              "    <tr>\n",
              "      <th>2</th>\n",
              "      <td>2015-08-09</td>\n",
              "      <td>0.706136</td>\n",
              "      <td>0.879810</td>\n",
              "      <td>0.629191</td>\n",
              "      <td>0.701897</td>\n",
              "      <td>0.701897</td>\n",
              "      <td>5.321700e+05</td>\n",
              "    </tr>\n",
              "    <tr>\n",
              "      <th>3</th>\n",
              "      <td>2015-08-10</td>\n",
              "      <td>0.713989</td>\n",
              "      <td>0.729854</td>\n",
              "      <td>0.636546</td>\n",
              "      <td>0.708448</td>\n",
              "      <td>0.708448</td>\n",
              "      <td>4.052830e+05</td>\n",
              "    </tr>\n",
              "    <tr>\n",
              "      <th>4</th>\n",
              "      <td>2015-08-11</td>\n",
              "      <td>0.708087</td>\n",
              "      <td>1.131410</td>\n",
              "      <td>0.663235</td>\n",
              "      <td>1.067860</td>\n",
              "      <td>1.067860</td>\n",
              "      <td>1.463100e+06</td>\n",
              "    </tr>\n",
              "    <tr>\n",
              "      <th>...</th>\n",
              "      <td>...</td>\n",
              "      <td>...</td>\n",
              "      <td>...</td>\n",
              "      <td>...</td>\n",
              "      <td>...</td>\n",
              "      <td>...</td>\n",
              "      <td>...</td>\n",
              "    </tr>\n",
              "    <tr>\n",
              "      <th>2283</th>\n",
              "      <td>2021-11-06</td>\n",
              "      <td>4482.647949</td>\n",
              "      <td>4530.997070</td>\n",
              "      <td>4334.973633</td>\n",
              "      <td>4521.581055</td>\n",
              "      <td>4521.581055</td>\n",
              "      <td>1.442908e+10</td>\n",
              "    </tr>\n",
              "    <tr>\n",
              "      <th>2284</th>\n",
              "      <td>2021-11-07</td>\n",
              "      <td>4523.981934</td>\n",
              "      <td>4640.921875</td>\n",
              "      <td>4510.984375</td>\n",
              "      <td>4620.554688</td>\n",
              "      <td>4620.554688</td>\n",
              "      <td>1.354138e+10</td>\n",
              "    </tr>\n",
              "    <tr>\n",
              "      <th>2285</th>\n",
              "      <td>2021-11-08</td>\n",
              "      <td>4619.649414</td>\n",
              "      <td>4822.363281</td>\n",
              "      <td>4619.649414</td>\n",
              "      <td>4812.087402</td>\n",
              "      <td>4812.087402</td>\n",
              "      <td>1.929090e+10</td>\n",
              "    </tr>\n",
              "    <tr>\n",
              "      <th>2286</th>\n",
              "      <td>2021-11-09</td>\n",
              "      <td>4810.071289</td>\n",
              "      <td>4837.589355</td>\n",
              "      <td>4718.039063</td>\n",
              "      <td>4735.068848</td>\n",
              "      <td>4735.068848</td>\n",
              "      <td>2.083417e+10</td>\n",
              "    </tr>\n",
              "    <tr>\n",
              "      <th>2287</th>\n",
              "      <td>2021-11-10</td>\n",
              "      <td>4740.288574</td>\n",
              "      <td>4756.999023</td>\n",
              "      <td>4683.004883</td>\n",
              "      <td>4718.970703</td>\n",
              "      <td>4718.970703</td>\n",
              "      <td>1.756995e+10</td>\n",
              "    </tr>\n",
              "  </tbody>\n",
              "</table>\n",
              "<p>2288 rows × 7 columns</p>\n",
              "</div>"
            ],
            "text/plain": [
              "            Date         Open  ...    Adj Close        Volume\n",
              "0     2015-08-07     2.831620  ...     2.772120  1.643290e+05\n",
              "1     2015-08-08     2.793760  ...     0.753325  6.741880e+05\n",
              "2     2015-08-09     0.706136  ...     0.701897  5.321700e+05\n",
              "3     2015-08-10     0.713989  ...     0.708448  4.052830e+05\n",
              "4     2015-08-11     0.708087  ...     1.067860  1.463100e+06\n",
              "...          ...          ...  ...          ...           ...\n",
              "2283  2021-11-06  4482.647949  ...  4521.581055  1.442908e+10\n",
              "2284  2021-11-07  4523.981934  ...  4620.554688  1.354138e+10\n",
              "2285  2021-11-08  4619.649414  ...  4812.087402  1.929090e+10\n",
              "2286  2021-11-09  4810.071289  ...  4735.068848  2.083417e+10\n",
              "2287  2021-11-10  4740.288574  ...  4718.970703  1.756995e+10\n",
              "\n",
              "[2288 rows x 7 columns]"
            ]
          },
          "metadata": {},
          "execution_count": 6
        }
      ]
    },
    {
      "cell_type": "code",
      "metadata": {
        "id": "hOChVo5m6EOg"
      },
      "source": [
        ""
      ],
      "execution_count": null,
      "outputs": []
    }
  ]
}